{
 "cells": [
  {
   "cell_type": "code",
   "execution_count": 1,
   "id": "cbb3c5b0-3b87-406b-8256-baf1ab0a6db9",
   "metadata": {},
   "outputs": [
    {
     "ename": "SyntaxError",
     "evalue": "unexpected character after line continuation character (3795664477.py, line 1)",
     "output_type": "error",
     "traceback": [
      "\u001b[1;36m  Cell \u001b[1;32mIn[1], line 1\u001b[1;36m\u001b[0m\n\u001b[1;33m    if width == 0 and height == 0 and color == 'red' and \\ emphasis == 'strong' or highlight > 100:\u001b[0m\n\u001b[1;37m                                                          ^\u001b[0m\n\u001b[1;31mSyntaxError\u001b[0m\u001b[1;31m:\u001b[0m unexpected character after line continuation character\n"
     ]
    }
   ],
   "source": [
    "if width == 0 and height == 0 and color == 'red' and \\ emphasis == 'strong' or highlight > 100:"
   ]
  },
  {
   "cell_type": "code",
   "execution_count": null,
   "id": "01035235-957b-49b1-9d41-214939f267a4",
   "metadata": {},
   "outputs": [],
   "source": [
    "if width == 0 and height == 0 and color == 'red' and \\\n",
    "    emphasis == 'strong' or highlight > 100:\n",
    "    print(\"Sorry, you lose.\")"
   ]
  },
  {
   "cell_type": "code",
   "execution_count": null,
   "id": "1fadfa21-4f9f-474f-ad75-b4adca99e16b",
   "metadata": {},
   "outputs": [],
   "source": [
    "width = 0\n",
    "height = 0\n",
    "color = \"red\"\n",
    "emphasis = 'strong'\n",
    "if width == 0 and height == 0 and color == 'red' and \\ \n",
    "    emphasis == 'strong' or highlight > 100:\n",
    "    print(\"S\")\n",
    "                                                          ^\n"
   ]
  },
  {
   "cell_type": "code",
   "execution_count": null,
   "id": "0158aea6-3b32-48e7-864b-a851635c4981",
   "metadata": {},
   "outputs": [],
   "source": [
    "width = 0\n",
    "height = 0\n",
    "color = \"red\"\n",
    "emphasis = 'strong'\n",
    "if width == 0 and height == 0 and color == 'red' and emphasis == 'strong' or highlight > 100:\n",
    "    print(\"Sorry you lose.\")"
   ]
  },
  {
   "cell_type": "code",
   "execution_count": null,
   "id": "424ce532-ccde-46e7-bf8e-5ab9c3d05be5",
   "metadata": {},
   "outputs": [],
   "source": [
    "width = 0\n",
    "height = 0\n",
    "color = \"red\"\n",
    "emphasis = 'strong'\n",
    "if width == 0 and height == 0 and color == 'red' and emphasis == 'strong' or highlight > 100:\n",
    "    print(\"Sorry you lose.\")"
   ]
  },
  {
   "cell_type": "code",
   "execution_count": null,
   "id": "3ca9b01a-6e24-4f1e-97af-e2856c1897ce",
   "metadata": {},
   "outputs": [],
   "source": []
  },
  {
   "cell_type": "code",
   "execution_count": null,
   "id": "52d1d849-503c-4d5f-8bfa-e402f5c2bb8f",
   "metadata": {},
   "outputs": [],
   "source": [
    "width = 0\n",
    "height = 0\n",
    "color = \"red\"\n",
    "emphasis = 'strong'\n",
    "if width == 0 and height == 0 and color == 'red' and \\n emphasis == 'strong' or highlight > 100:\n",
    "    print(\"Sorry you lose.\")"
   ]
  },
  {
   "cell_type": "code",
   "execution_count": null,
   "id": "b731cdbe-b9cb-4a89-b618-d76f71a2c222",
   "metadata": {},
   "outputs": [],
   "source": []
  },
  {
   "cell_type": "code",
   "execution_count": null,
   "id": "282f3163-f995-4e29-82a0-6fadb85d6543",
   "metadata": {},
   "outputs": [],
   "source": [
    "width = 0\n",
    "height = 0\n",
    "color = \"red\"\n",
    "emphasis = 'strong'\n",
    "if width == 0 and height == 0 and color == 'red' and \"\\n\" emphasis == 'strong' or highlight > 100:\n",
    "    print(\"Sorry you lose.\")"
   ]
  },
  {
   "cell_type": "code",
   "execution_count": null,
   "id": "207fb013-13ea-461a-8d25-fb733cfec78f",
   "metadata": {},
   "outputs": [],
   "source": [
    "width = 0\n",
    "height = 0\n",
    "color = \"red\"\n",
    "emphasis = \"strong\"\n",
    "if width == 0 and height == 0 and color == 'red' and \"\\n\" \n",
    "emphasis == 'strong' or highlight > 100:\n",
    "    print(\"Sory you lose\")"
   ]
  },
  {
   "cell_type": "code",
   "execution_count": null,
   "id": "13ca6f4f-ef47-4524-85d8-a4b66b2f2102",
   "metadata": {},
   "outputs": [],
   "source": [
    "width = 0\n",
    "height = 0\n",
    "color = \"red\"\n",
    "emphasis = 'strong'\n",
    "if width == 0 and height == 0 and color == 'red' and emphasis == 'strong' or highlight > 100:\n",
    "    print(\"Sorry you lose.\")"
   ]
  },
  {
   "cell_type": "code",
   "execution_count": null,
   "id": "0e26989e-c80c-400d-bb14-08b658c33ce4",
   "metadata": {},
   "outputs": [],
   "source": [
    "width = 0\n",
    "height = 0\n",
    "color = \"red\"\n",
    "emphasis = 'strong'\n",
    "if width == 0 and height == 0 and color == 'red' and emphasis == 'strong' or highlight > 100:\n",
    "    print(\"Sorry you lose.\")"
   ]
  },
  {
   "cell_type": "code",
   "execution_count": null,
   "id": "e92124b2-bbb4-488b-bd81-156b102ddeaa",
   "metadata": {},
   "outputs": [],
   "source": [
    "print(\"Hello\")\n"
   ]
  },
  {
   "cell_type": "code",
   "execution_count": null,
   "id": "82947cf1-ade1-4ecf-8726-a0f4467b2ac7",
   "metadata": {},
   "outputs": [],
   "source": [
    "print(\"Hello\")"
   ]
  },
  {
   "cell_type": "code",
   "execution_count": 2,
   "id": "28c13c8d-0b2d-4af5-a823-63fbfef044cb",
   "metadata": {},
   "outputs": [
    {
     "name": "stdout",
     "output_type": "stream",
     "text": [
      "Hello\n"
     ]
    }
   ],
   "source": [
    "print(\"Hello\")"
   ]
  },
  {
   "cell_type": "code",
   "execution_count": 3,
   "id": "91749726-f18f-4830-b1fb-4a3d4858bb62",
   "metadata": {},
   "outputs": [
    {
     "ename": "SyntaxError",
     "evalue": "invalid syntax (4178270618.py, line 4)",
     "output_type": "error",
     "traceback": [
      "\u001b[1;36m  Cell \u001b[1;32mIn[3], line 4\u001b[1;36m\u001b[0m\n\u001b[1;33m    area = 2.0 * PI radius\u001b[0m\n\u001b[1;37m                    ^\u001b[0m\n\u001b[1;31mSyntaxError\u001b[0m\u001b[1;31m:\u001b[0m invalid syntax\n"
     ]
    }
   ],
   "source": [
    "PI = 3.14\n",
    "radius = float(input('Enter the radius:'))\n",
    "circum = PI * radius * radius\n",
    "area = 2.0 * PI radius\n",
    "\n",
    "print('Radius of circle', radius)\n",
    "print('Area of the Circle', area)\n",
    "print('Circumferernce of the circle' circum)"
   ]
  },
  {
   "cell_type": "code",
   "execution_count": 4,
   "id": "d231bbe9-8e3e-4195-aae8-c2c0aab66d97",
   "metadata": {},
   "outputs": [
    {
     "name": "stdin",
     "output_type": "stream",
     "text": [
      "Enter the radius: 4.0\n"
     ]
    },
    {
     "name": "stdout",
     "output_type": "stream",
     "text": [
      "Radius of the circle 4.0\n",
      "Area of the circle 50.24\n",
      "Circumference of the circle 25.12\n"
     ]
    }
   ],
   "source": [
    "PI = 3.14\n",
    "radius = float(input('Enter the radius:'))\n",
    "area = PI * radius * radius\n",
    "circum = 2.0 * PI * radius\n",
    "\n",
    "print('Radius of the circle', radius)\n",
    "print('Area of the circle', area)\n",
    "print('Circumference of the circle', circum)"
   ]
  },
  {
   "cell_type": "code",
   "execution_count": 5,
   "id": "fd87227c-e2fd-4a33-8bb9-d1f610b886bc",
   "metadata": {},
   "outputs": [
    {
     "ename": "NameError",
     "evalue": "name 'i' is not defined",
     "output_type": "error",
     "traceback": [
      "\u001b[1;31m---------------------------------------------------------------------------\u001b[0m",
      "\u001b[1;31mNameError\u001b[0m                                 Traceback (most recent call last)",
      "Cell \u001b[1;32mIn[5], line 1\u001b[0m\n\u001b[1;32m----> 1\u001b[0m \u001b[38;5;28mtype\u001b[39m(\u001b[38;5;241m4\u001b[39m \u001b[38;5;241m+\u001b[39m i)\n",
      "\u001b[1;31mNameError\u001b[0m: name 'i' is not defined"
     ]
    }
   ],
   "source": [
    "type(4 + i)"
   ]
  },
  {
   "cell_type": "code",
   "execution_count": 6,
   "id": "9bec8d9b-061f-4a1b-a342-3a37434ad31d",
   "metadata": {},
   "outputs": [
    {
     "ename": "SyntaxError",
     "evalue": "invalid decimal literal (1992331629.py, line 1)",
     "output_type": "error",
     "traceback": [
      "\u001b[1;36m  Cell \u001b[1;32mIn[6], line 1\u001b[1;36m\u001b[0m\n\u001b[1;33m    type(4 + 3i)\u001b[0m\n\u001b[1;37m             ^\u001b[0m\n\u001b[1;31mSyntaxError\u001b[0m\u001b[1;31m:\u001b[0m invalid decimal literal\n"
     ]
    }
   ],
   "source": [
    "type(4 + 3i)"
   ]
  },
  {
   "cell_type": "code",
   "execution_count": 7,
   "id": "f7228bd9-73f2-4489-ba25-4a546e82dad7",
   "metadata": {},
   "outputs": [
    {
     "data": {
      "text/plain": [
       "complex"
      ]
     },
     "execution_count": 7,
     "metadata": {},
     "output_type": "execute_result"
    }
   ],
   "source": [
    "type (4 + 4j)"
   ]
  },
  {
   "cell_type": "code",
   "execution_count": 8,
   "id": "b10434e6-6c54-47b9-848b-5de6c42e9906",
   "metadata": {},
   "outputs": [
    {
     "data": {
      "text/plain": [
       "complex"
      ]
     },
     "execution_count": 8,
     "metadata": {},
     "output_type": "execute_result"
    }
   ],
   "source": [
    "type (300 * 2j)"
   ]
  },
  {
   "cell_type": "code",
   "execution_count": 9,
   "id": "55b9adc3-5c05-4f34-acdf-84f043c26891",
   "metadata": {},
   "outputs": [
    {
     "name": "stdout",
     "output_type": "stream",
     "text": [
      "600j\n"
     ]
    }
   ],
   "source": [
    "print(300 * 2j)"
   ]
  },
  {
   "cell_type": "code",
   "execution_count": 10,
   "id": "5ab7b7ec-2be3-4327-8dad-f65b5e92ee77",
   "metadata": {},
   "outputs": [
    {
     "data": {
      "text/plain": [
       "float"
      ]
     },
     "execution_count": 10,
     "metadata": {},
     "output_type": "execute_result"
    }
   ],
   "source": [
    "type (220 / 3)"
   ]
  },
  {
   "cell_type": "code",
   "execution_count": 11,
   "id": "cbf7b47e-39d3-4a61-9887-266d3bacb505",
   "metadata": {},
   "outputs": [
    {
     "ename": "TypeError",
     "evalue": "can only concatenate str (not \"int\") to str",
     "output_type": "error",
     "traceback": [
      "\u001b[1;31m---------------------------------------------------------------------------\u001b[0m",
      "\u001b[1;31mTypeError\u001b[0m                                 Traceback (most recent call last)",
      "Cell \u001b[1;32mIn[11], line 1\u001b[0m\n\u001b[1;32m----> 1\u001b[0m python \u001b[38;5;241m=\u001b[39m \u001b[38;5;124m\"\u001b[39m\u001b[38;5;124mMy Hello World, \u001b[39m\u001b[38;5;124m\"\u001b[39m \u001b[38;5;241m+\u001b[39m \u001b[38;5;241m10\u001b[39m\n",
      "\u001b[1;31mTypeError\u001b[0m: can only concatenate str (not \"int\") to str"
     ]
    }
   ],
   "source": [
    "python = \"My Hello World, \" + 10"
   ]
  },
  {
   "cell_type": "code",
   "execution_count": 12,
   "id": "39a3c42d-4926-44b0-8618-f294c53ad6ad",
   "metadata": {},
   "outputs": [],
   "source": [
    "python = \"My Hello World\", + 10\n"
   ]
  },
  {
   "cell_type": "code",
   "execution_count": 14,
   "id": "900a1400-aa52-47ea-923c-be85b9ffec5b",
   "metadata": {},
   "outputs": [
    {
     "name": "stdout",
     "output_type": "stream",
     "text": [
      "('My Hello World', 10)\n"
     ]
    }
   ],
   "source": [
    "print(python)"
   ]
  },
  {
   "cell_type": "code",
   "execution_count": 15,
   "id": "acc8674d-4c6b-4f23-95ac-62aa0334fa0d",
   "metadata": {},
   "outputs": [
    {
     "name": "stdout",
     "output_type": "stream",
     "text": [
      "My Hello world + 10\n"
     ]
    }
   ],
   "source": [
    "python = \"My Hello world + 10\"\n",
    "print(python)"
   ]
  },
  {
   "cell_type": "code",
   "execution_count": 16,
   "id": "ffdc4ee5-501b-4bfe-9380-db3b9d7f8945",
   "metadata": {},
   "outputs": [
    {
     "ename": "TypeError",
     "evalue": "can only concatenate str (not \"int\") to str",
     "output_type": "error",
     "traceback": [
      "\u001b[1;31m---------------------------------------------------------------------------\u001b[0m",
      "\u001b[1;31mTypeError\u001b[0m                                 Traceback (most recent call last)",
      "Cell \u001b[1;32mIn[16], line 1\u001b[0m\n\u001b[1;32m----> 1\u001b[0m python \u001b[38;5;241m=\u001b[39m \u001b[38;5;124m\"\u001b[39m\u001b[38;5;124mMy Hello World\u001b[39m\u001b[38;5;124m\"\u001b[39m \u001b[38;5;241m+\u001b[39m \u001b[38;5;241m10\u001b[39m\n\u001b[0;32m      2\u001b[0m \u001b[38;5;28mprint\u001b[39m(python)\n",
      "\u001b[1;31mTypeError\u001b[0m: can only concatenate str (not \"int\") to str"
     ]
    }
   ],
   "source": [
    "python = \"My Hello World\" + 10\n",
    "print(python)"
   ]
  },
  {
   "cell_type": "code",
   "execution_count": 20,
   "id": "406e5550-3c80-46d5-ba88-dd1139ca6097",
   "metadata": {},
   "outputs": [
    {
     "name": "stdout",
     "output_type": "stream",
     "text": [
      "('My Hello world', 10)\n"
     ]
    }
   ],
   "source": [
    "python = \"My Hello world\", + 10\n",
    "print(python)"
   ]
  },
  {
   "cell_type": "code",
   "execution_count": null,
   "id": "bd3b212f-0444-487c-a81b-21e1dce82ccd",
   "metadata": {},
   "outputs": [],
   "source": []
  }
 ],
 "metadata": {
  "kernelspec": {
   "display_name": "Python 3 (ipykernel)",
   "language": "python",
   "name": "python3"
  },
  "language_info": {
   "codemirror_mode": {
    "name": "ipython",
    "version": 3
   },
   "file_extension": ".py",
   "mimetype": "text/x-python",
   "name": "python",
   "nbconvert_exporter": "python",
   "pygments_lexer": "ipython3",
   "version": "3.11.7"
  }
 },
 "nbformat": 4,
 "nbformat_minor": 5
}
